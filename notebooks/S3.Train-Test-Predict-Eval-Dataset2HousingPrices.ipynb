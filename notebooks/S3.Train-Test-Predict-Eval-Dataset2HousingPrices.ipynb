{
 "cells": [
  {
   "cell_type": "code",
   "execution_count": 1,
   "metadata": {},
   "outputs": [],
   "source": [
    "import itertools\n",
    "import numpy as np\n",
    "import pandas as pd\n",
    "from sklearn.model_selection import train_test_split\n",
    "from sklearn.linear_model import LinearRegression\n",
    "from sklearn.metrics import mean_squared_error\n",
    "from math import sqrt\n",
    "from sklearn.ensemble import RandomForestClassifier"
   ]
  },
  {
   "cell_type": "code",
   "execution_count": 21,
   "metadata": {},
   "outputs": [
    {
     "data": {
      "text/plain": [
       "(4128, 10)"
      ]
     },
     "execution_count": 21,
     "metadata": {},
     "output_type": "execute_result"
    }
   ],
   "source": [
    "df = pd.read_csv(\"https://raw.githubusercontent.com/mohitgupta-omg/Kaggle-California-Housing-Prices/master/Data/housing.csv\")\n",
    "df = df.sample(frac=0.2)\n",
    "df.shape"
   ]
  },
  {
   "cell_type": "code",
   "execution_count": 22,
   "metadata": {},
   "outputs": [],
   "source": [
    "df = df.dropna(axis=0)\n",
    "df.drop([\"longitude\", \"latitude\"], axis = 1, inplace=True)"
   ]
  },
  {
   "cell_type": "code",
   "execution_count": 23,
   "metadata": {},
   "outputs": [
    {
     "data": {
      "text/plain": [
       "ocean_proximity\n",
       "<1H OCEAN     1843\n",
       "INLAND        1254\n",
       "NEAR BAY       447\n",
       "NEAR OCEAN     538\n",
       "Name: median_house_value, dtype: int64"
      ]
     },
     "execution_count": 23,
     "metadata": {},
     "output_type": "execute_result"
    }
   ],
   "source": [
    "df.groupby(\"ocean_proximity\").median_house_value.count()"
   ]
  },
  {
   "cell_type": "code",
   "execution_count": 24,
   "metadata": {},
   "outputs": [
    {
     "name": "stdout",
     "output_type": "stream",
     "text": [
      "(4082, 8)\n",
      "(4082, 10)\n"
     ]
    }
   ],
   "source": [
    "print(df.shape)\n",
    "df = df.merge(pd.get_dummies(df.ocean_proximity, drop_first=True, prefix=\"OCEAN_PROX\"), \n",
    "              left_index=True, right_index=True, how=\"inner\")\n",
    "df.drop(\"ocean_proximity\", axis = 1, inplace=True)\n",
    "print(df.shape)"
   ]
  },
  {
   "cell_type": "code",
   "execution_count": 25,
   "metadata": {},
   "outputs": [
    {
     "data": {
      "text/html": [
       "<div>\n",
       "<style>\n",
       "    .dataframe thead tr:only-child th {\n",
       "        text-align: right;\n",
       "    }\n",
       "\n",
       "    .dataframe thead th {\n",
       "        text-align: left;\n",
       "    }\n",
       "\n",
       "    .dataframe tbody tr th {\n",
       "        vertical-align: top;\n",
       "    }\n",
       "</style>\n",
       "<table border=\"1\" class=\"dataframe\">\n",
       "  <thead>\n",
       "    <tr style=\"text-align: right;\">\n",
       "      <th></th>\n",
       "      <th>housing_median_age</th>\n",
       "      <th>total_rooms</th>\n",
       "      <th>total_bedrooms</th>\n",
       "      <th>population</th>\n",
       "      <th>households</th>\n",
       "      <th>median_income</th>\n",
       "      <th>median_house_value</th>\n",
       "      <th>OCEAN_PROX_INLAND</th>\n",
       "      <th>OCEAN_PROX_NEAR BAY</th>\n",
       "      <th>OCEAN_PROX_NEAR OCEAN</th>\n",
       "    </tr>\n",
       "  </thead>\n",
       "  <tbody>\n",
       "    <tr>\n",
       "      <th>8079</th>\n",
       "      <td>43.0</td>\n",
       "      <td>1758.0</td>\n",
       "      <td>347.0</td>\n",
       "      <td>954.0</td>\n",
       "      <td>312.0</td>\n",
       "      <td>5.2606</td>\n",
       "      <td>198900.0</td>\n",
       "      <td>0</td>\n",
       "      <td>0</td>\n",
       "      <td>1</td>\n",
       "    </tr>\n",
       "    <tr>\n",
       "      <th>15723</th>\n",
       "      <td>37.0</td>\n",
       "      <td>1235.0</td>\n",
       "      <td>314.0</td>\n",
       "      <td>481.0</td>\n",
       "      <td>297.0</td>\n",
       "      <td>3.6875</td>\n",
       "      <td>492300.0</td>\n",
       "      <td>0</td>\n",
       "      <td>1</td>\n",
       "      <td>0</td>\n",
       "    </tr>\n",
       "  </tbody>\n",
       "</table>\n",
       "</div>"
      ],
      "text/plain": [
       "       housing_median_age  total_rooms  total_bedrooms  population  \\\n",
       "8079                 43.0       1758.0           347.0       954.0   \n",
       "15723                37.0       1235.0           314.0       481.0   \n",
       "\n",
       "       households  median_income  median_house_value  OCEAN_PROX_INLAND  \\\n",
       "8079        312.0         5.2606            198900.0                  0   \n",
       "15723       297.0         3.6875            492300.0                  0   \n",
       "\n",
       "       OCEAN_PROX_NEAR BAY  OCEAN_PROX_NEAR OCEAN  \n",
       "8079                     0                      1  \n",
       "15723                    1                      0  "
      ]
     },
     "execution_count": 25,
     "metadata": {},
     "output_type": "execute_result"
    }
   ],
   "source": [
    "df.head(2)"
   ]
  },
  {
   "cell_type": "code",
   "execution_count": 26,
   "metadata": {},
   "outputs": [],
   "source": [
    "#df.info()"
   ]
  },
  {
   "cell_type": "code",
   "execution_count": 27,
   "metadata": {},
   "outputs": [],
   "source": [
    "#df.columns"
   ]
  },
  {
   "cell_type": "code",
   "execution_count": 28,
   "metadata": {},
   "outputs": [
    {
     "name": "stdout",
     "output_type": "stream",
     "text": [
      "(3265, 9) (817, 9) (3265,) (817,)\n"
     ]
    }
   ],
   "source": [
    "y = \"median_house_value\"\n",
    "X = [x for x in df.columns if x != y]\n",
    "\n",
    "X_train, X_test, y_train, y_test = train_test_split(df[X], df[y], test_size=0.20, random_state=42)\n",
    "print(X_train.shape, X_test.shape, y_train.shape, y_test.shape)"
   ]
  },
  {
   "cell_type": "code",
   "execution_count": 29,
   "metadata": {},
   "outputs": [
    {
     "name": "stdout",
     "output_type": "stream",
     "text": [
      "RMSE All:  73093.48702598235\n"
     ]
    }
   ],
   "source": [
    "reg = LinearRegression(fit_intercept=True).fit(X_train, y_train)\n",
    "y_pred = reg.predict(X_test)\n",
    "yh  = [x for x in zip(y_test, y_pred)]\n",
    "#print(yh)\n",
    "rootMeanSquaredError = sqrt(mean_squared_error(y_test, y_pred))\n",
    "print(\"RMSE All: \", rootMeanSquaredError)"
   ]
  },
  {
   "cell_type": "code",
   "execution_count": null,
   "metadata": {},
   "outputs": [],
   "source": []
  },
  {
   "cell_type": "markdown",
   "metadata": {},
   "source": [
    "## Variable Importance"
   ]
  },
  {
   "cell_type": "code",
   "execution_count": 30,
   "metadata": {},
   "outputs": [
    {
     "data": {
      "text/html": [
       "<div>\n",
       "<style>\n",
       "    .dataframe thead tr:only-child th {\n",
       "        text-align: right;\n",
       "    }\n",
       "\n",
       "    .dataframe thead th {\n",
       "        text-align: left;\n",
       "    }\n",
       "\n",
       "    .dataframe tbody tr th {\n",
       "        vertical-align: top;\n",
       "    }\n",
       "</style>\n",
       "<table border=\"1\" class=\"dataframe\">\n",
       "  <thead>\n",
       "    <tr style=\"text-align: right;\">\n",
       "      <th></th>\n",
       "      <th>feature</th>\n",
       "      <th>importance</th>\n",
       "    </tr>\n",
       "  </thead>\n",
       "  <tbody>\n",
       "    <tr>\n",
       "      <th>0</th>\n",
       "      <td>median_income</td>\n",
       "      <td>0.166278</td>\n",
       "    </tr>\n",
       "    <tr>\n",
       "      <th>1</th>\n",
       "      <td>population</td>\n",
       "      <td>0.151361</td>\n",
       "    </tr>\n",
       "    <tr>\n",
       "      <th>2</th>\n",
       "      <td>total_rooms</td>\n",
       "      <td>0.149481</td>\n",
       "    </tr>\n",
       "    <tr>\n",
       "      <th>3</th>\n",
       "      <td>total_bedrooms</td>\n",
       "      <td>0.143259</td>\n",
       "    </tr>\n",
       "    <tr>\n",
       "      <th>4</th>\n",
       "      <td>households</td>\n",
       "      <td>0.143076</td>\n",
       "    </tr>\n",
       "    <tr>\n",
       "      <th>5</th>\n",
       "      <td>housing_median_age</td>\n",
       "      <td>0.125689</td>\n",
       "    </tr>\n",
       "    <tr>\n",
       "      <th>6</th>\n",
       "      <td>randomVar</td>\n",
       "      <td>0.087551</td>\n",
       "    </tr>\n",
       "    <tr>\n",
       "      <th>7</th>\n",
       "      <td>OCEAN_PROX_NEAR OCEAN</td>\n",
       "      <td>0.015456</td>\n",
       "    </tr>\n",
       "    <tr>\n",
       "      <th>8</th>\n",
       "      <td>OCEAN_PROX_NEAR BAY</td>\n",
       "      <td>0.012373</td>\n",
       "    </tr>\n",
       "    <tr>\n",
       "      <th>9</th>\n",
       "      <td>OCEAN_PROX_INLAND</td>\n",
       "      <td>0.005476</td>\n",
       "    </tr>\n",
       "  </tbody>\n",
       "</table>\n",
       "</div>"
      ],
      "text/plain": [
       "                 feature  importance\n",
       "0          median_income    0.166278\n",
       "1             population    0.151361\n",
       "2            total_rooms    0.149481\n",
       "3         total_bedrooms    0.143259\n",
       "4             households    0.143076\n",
       "5     housing_median_age    0.125689\n",
       "6              randomVar    0.087551\n",
       "7  OCEAN_PROX_NEAR OCEAN    0.015456\n",
       "8    OCEAN_PROX_NEAR BAY    0.012373\n",
       "9      OCEAN_PROX_INLAND    0.005476"
      ]
     },
     "execution_count": 30,
     "metadata": {},
     "output_type": "execute_result"
    }
   ],
   "source": [
    "clf = RandomForestClassifier(n_estimators=50, max_features='sqrt')\n",
    "df_X = df[X].copy()\n",
    "df_X['randomVar'] = np.random.randint(1, 10, df_X.shape[0])\n",
    "clf = clf.fit(df_X, df[y])\n",
    "features = pd.DataFrame()\n",
    "features['feature'] = df_X.columns\n",
    "features['importance'] = clf.feature_importances_\n",
    "features.sort_values(by=['importance'], ascending=True, inplace=True)\n",
    "features.set_index('feature', inplace=True)\n",
    "features = features.sort_values(by=\"importance\", ascending=False).reset_index(drop=False)\n",
    "features"
   ]
  },
  {
   "cell_type": "code",
   "execution_count": 31,
   "metadata": {},
   "outputs": [],
   "source": [
    "randomVarIndex = features[features.feature==\"randomVar\"].index.values[0]"
   ]
  },
  {
   "cell_type": "code",
   "execution_count": 32,
   "metadata": {},
   "outputs": [
    {
     "data": {
      "text/plain": [
       "['median_income',\n",
       " 'population',\n",
       " 'total_rooms',\n",
       " 'total_bedrooms',\n",
       " 'households',\n",
       " 'housing_median_age']"
      ]
     },
     "execution_count": 32,
     "metadata": {},
     "output_type": "execute_result"
    }
   ],
   "source": [
    "feat_positive = list(features[features.index < randomVarIndex].feature.values)\n",
    "feat_positive"
   ]
  },
  {
   "cell_type": "code",
   "execution_count": 33,
   "metadata": {},
   "outputs": [
    {
     "name": "stdout",
     "output_type": "stream",
     "text": [
      "RMSE Better than random:  77531.88378964817\n"
     ]
    }
   ],
   "source": [
    "reg = LinearRegression(fit_intercept=True).fit(X_train[feat_positive], y_train)\n",
    "y_pred = reg.predict(X_test[feat_positive])\n",
    "yh  = [x for x in zip(y_test, map(int, y_pred))]\n",
    "#print(yh)\n",
    "rootMeanSquaredError = sqrt(mean_squared_error(y_test, y_pred))\n",
    "print(\"RMSE Better than random: \", rootMeanSquaredError)"
   ]
  },
  {
   "cell_type": "code",
   "execution_count": 34,
   "metadata": {},
   "outputs": [],
   "source": [
    "# Compare variable importance with predictive capacity of each var with intercept, Mean RMSE with train-test loop "
   ]
  },
  {
   "cell_type": "markdown",
   "metadata": {},
   "source": [
    "## Linear regression brute force eval"
   ]
  },
  {
   "cell_type": "code",
   "execution_count": 35,
   "metadata": {},
   "outputs": [],
   "source": [
    "y = \"median_house_value\"\n",
    "X = [x for x in df.columns if x != y]"
   ]
  },
  {
   "cell_type": "code",
   "execution_count": 36,
   "metadata": {},
   "outputs": [
    {
     "data": {
      "text/plain": [
       "['housing_median_age',\n",
       " 'total_rooms',\n",
       " 'total_bedrooms',\n",
       " 'population',\n",
       " 'households',\n",
       " 'median_income',\n",
       " 'OCEAN_PROX_INLAND',\n",
       " 'OCEAN_PROX_NEAR BAY',\n",
       " 'OCEAN_PROX_NEAR OCEAN']"
      ]
     },
     "execution_count": 36,
     "metadata": {},
     "output_type": "execute_result"
    }
   ],
   "source": [
    "X"
   ]
  },
  {
   "cell_type": "code",
   "execution_count": 37,
   "metadata": {},
   "outputs": [],
   "source": [
    "def split_fit_eval(df, y):\n",
    "    X = [x for x in df.columns if x != y]\n",
    "    res = []\n",
    "    elements = np.arange(2,len(X)+1,1)\n",
    "    ucombin=[]\n",
    "    for e in elements:\n",
    "        ucombin.append(list(itertools.combinations(X, e)))\n",
    "    comb_flat_list = [list(item) for sublist in ucombin for item in sublist]\n",
    "    for enum, x in enumerate(comb_flat_list):\n",
    "        if enum % 100 == 0:\n",
    "            print(enum)\n",
    "        rmse = []\n",
    "        for rs in range(10):\n",
    "            X_train, X_test, y_train, y_test = train_test_split(df[x], df[y], test_size=0.20, random_state=rs)\n",
    "            reg = LinearRegression(fit_intercept=True).fit(X_train, y_train)\n",
    "            y_pred = reg.predict(X_test)\n",
    "            rmse.append(sqrt(mean_squared_error(y_test, y_pred)))\n",
    "        res.append((x, np.mean(rmse)))\n",
    "    res = pd.DataFrame(res, columns=[\"var\", \"rmse\"])\n",
    "    res = res.sort_values(by=\"rmse\").reset_index(drop=True)\n",
    "    res[\"nvars\"] = res[\"var\"].apply(lambda x : len(x))\n",
    "    return res"
   ]
  },
  {
   "cell_type": "code",
   "execution_count": 38,
   "metadata": {},
   "outputs": [
    {
     "name": "stdout",
     "output_type": "stream",
     "text": [
      "0\n",
      "100\n",
      "200\n",
      "300\n",
      "400\n",
      "500\n"
     ]
    }
   ],
   "source": [
    "r = split_fit_eval(df=df, y=\"median_house_value\")"
   ]
  },
  {
   "cell_type": "code",
   "execution_count": 39,
   "metadata": {},
   "outputs": [
    {
     "data": {
      "text/html": [
       "<div>\n",
       "<style>\n",
       "    .dataframe thead tr:only-child th {\n",
       "        text-align: right;\n",
       "    }\n",
       "\n",
       "    .dataframe thead th {\n",
       "        text-align: left;\n",
       "    }\n",
       "\n",
       "    .dataframe tbody tr th {\n",
       "        vertical-align: top;\n",
       "    }\n",
       "</style>\n",
       "<table border=\"1\" class=\"dataframe\">\n",
       "  <thead>\n",
       "    <tr style=\"text-align: right;\">\n",
       "      <th></th>\n",
       "      <th>var</th>\n",
       "      <th>rmse</th>\n",
       "      <th>nvars</th>\n",
       "    </tr>\n",
       "  </thead>\n",
       "  <tbody>\n",
       "    <tr>\n",
       "      <th>0</th>\n",
       "      <td>[housing_median_age, total_rooms, total_bedroo...</td>\n",
       "      <td>70081.676558</td>\n",
       "      <td>9</td>\n",
       "    </tr>\n",
       "    <tr>\n",
       "      <th>1</th>\n",
       "      <td>[housing_median_age, total_rooms, total_bedroo...</td>\n",
       "      <td>70114.722237</td>\n",
       "      <td>8</td>\n",
       "    </tr>\n",
       "    <tr>\n",
       "      <th>2</th>\n",
       "      <td>[housing_median_age, total_rooms, total_bedroo...</td>\n",
       "      <td>70131.572561</td>\n",
       "      <td>8</td>\n",
       "    </tr>\n",
       "    <tr>\n",
       "      <th>3</th>\n",
       "      <td>[housing_median_age, total_bedrooms, populatio...</td>\n",
       "      <td>70156.506044</td>\n",
       "      <td>8</td>\n",
       "    </tr>\n",
       "    <tr>\n",
       "      <th>4</th>\n",
       "      <td>[housing_median_age, total_rooms, total_bedroo...</td>\n",
       "      <td>70177.110081</td>\n",
       "      <td>7</td>\n",
       "    </tr>\n",
       "    <tr>\n",
       "      <th>5</th>\n",
       "      <td>[housing_median_age, total_bedrooms, populatio...</td>\n",
       "      <td>70184.629934</td>\n",
       "      <td>7</td>\n",
       "    </tr>\n",
       "    <tr>\n",
       "      <th>6</th>\n",
       "      <td>[housing_median_age, total_rooms, total_bedroo...</td>\n",
       "      <td>70184.767531</td>\n",
       "      <td>8</td>\n",
       "    </tr>\n",
       "    <tr>\n",
       "      <th>7</th>\n",
       "      <td>[housing_median_age, total_rooms, total_bedroo...</td>\n",
       "      <td>70191.777152</td>\n",
       "      <td>7</td>\n",
       "    </tr>\n",
       "    <tr>\n",
       "      <th>8</th>\n",
       "      <td>[housing_median_age, total_rooms, population, ...</td>\n",
       "      <td>70211.747251</td>\n",
       "      <td>8</td>\n",
       "    </tr>\n",
       "    <tr>\n",
       "      <th>9</th>\n",
       "      <td>[housing_median_age, total_bedrooms, populatio...</td>\n",
       "      <td>70211.766642</td>\n",
       "      <td>7</td>\n",
       "    </tr>\n",
       "  </tbody>\n",
       "</table>\n",
       "</div>"
      ],
      "text/plain": [
       "                                                 var          rmse  nvars\n",
       "0  [housing_median_age, total_rooms, total_bedroo...  70081.676558      9\n",
       "1  [housing_median_age, total_rooms, total_bedroo...  70114.722237      8\n",
       "2  [housing_median_age, total_rooms, total_bedroo...  70131.572561      8\n",
       "3  [housing_median_age, total_bedrooms, populatio...  70156.506044      8\n",
       "4  [housing_median_age, total_rooms, total_bedroo...  70177.110081      7\n",
       "5  [housing_median_age, total_bedrooms, populatio...  70184.629934      7\n",
       "6  [housing_median_age, total_rooms, total_bedroo...  70184.767531      8\n",
       "7  [housing_median_age, total_rooms, total_bedroo...  70191.777152      7\n",
       "8  [housing_median_age, total_rooms, population, ...  70211.747251      8\n",
       "9  [housing_median_age, total_bedrooms, populatio...  70211.766642      7"
      ]
     },
     "execution_count": 39,
     "metadata": {},
     "output_type": "execute_result"
    }
   ],
   "source": [
    "r.head(10)"
   ]
  },
  {
   "cell_type": "code",
   "execution_count": 40,
   "metadata": {},
   "outputs": [
    {
     "data": {
      "text/plain": [
       "['housing_median_age',\n",
       " 'total_rooms',\n",
       " 'total_bedrooms',\n",
       " 'population',\n",
       " 'households',\n",
       " 'median_income',\n",
       " 'OCEAN_PROX_INLAND',\n",
       " 'OCEAN_PROX_NEAR BAY',\n",
       " 'OCEAN_PROX_NEAR OCEAN']"
      ]
     },
     "execution_count": 40,
     "metadata": {},
     "output_type": "execute_result"
    }
   ],
   "source": [
    "r[\"var\"].loc[0]"
   ]
  },
  {
   "cell_type": "code",
   "execution_count": 41,
   "metadata": {},
   "outputs": [],
   "source": [
    "#r[\"var\"].loc[0]"
   ]
  },
  {
   "cell_type": "code",
   "execution_count": 42,
   "metadata": {},
   "outputs": [
    {
     "data": {
      "text/html": [
       "<div>\n",
       "<style>\n",
       "    .dataframe thead tr:only-child th {\n",
       "        text-align: right;\n",
       "    }\n",
       "\n",
       "    .dataframe thead th {\n",
       "        text-align: left;\n",
       "    }\n",
       "\n",
       "    .dataframe tbody tr th {\n",
       "        vertical-align: top;\n",
       "    }\n",
       "</style>\n",
       "<table border=\"1\" class=\"dataframe\">\n",
       "  <thead>\n",
       "    <tr style=\"text-align: right;\">\n",
       "      <th></th>\n",
       "      <th>feature</th>\n",
       "      <th>importance</th>\n",
       "    </tr>\n",
       "  </thead>\n",
       "  <tbody>\n",
       "    <tr>\n",
       "      <th>0</th>\n",
       "      <td>median_income</td>\n",
       "      <td>0.166278</td>\n",
       "    </tr>\n",
       "    <tr>\n",
       "      <th>1</th>\n",
       "      <td>population</td>\n",
       "      <td>0.151361</td>\n",
       "    </tr>\n",
       "    <tr>\n",
       "      <th>2</th>\n",
       "      <td>total_rooms</td>\n",
       "      <td>0.149481</td>\n",
       "    </tr>\n",
       "    <tr>\n",
       "      <th>3</th>\n",
       "      <td>total_bedrooms</td>\n",
       "      <td>0.143259</td>\n",
       "    </tr>\n",
       "    <tr>\n",
       "      <th>4</th>\n",
       "      <td>households</td>\n",
       "      <td>0.143076</td>\n",
       "    </tr>\n",
       "    <tr>\n",
       "      <th>5</th>\n",
       "      <td>housing_median_age</td>\n",
       "      <td>0.125689</td>\n",
       "    </tr>\n",
       "    <tr>\n",
       "      <th>6</th>\n",
       "      <td>randomVar</td>\n",
       "      <td>0.087551</td>\n",
       "    </tr>\n",
       "    <tr>\n",
       "      <th>7</th>\n",
       "      <td>OCEAN_PROX_NEAR OCEAN</td>\n",
       "      <td>0.015456</td>\n",
       "    </tr>\n",
       "    <tr>\n",
       "      <th>8</th>\n",
       "      <td>OCEAN_PROX_NEAR BAY</td>\n",
       "      <td>0.012373</td>\n",
       "    </tr>\n",
       "    <tr>\n",
       "      <th>9</th>\n",
       "      <td>OCEAN_PROX_INLAND</td>\n",
       "      <td>0.005476</td>\n",
       "    </tr>\n",
       "  </tbody>\n",
       "</table>\n",
       "</div>"
      ],
      "text/plain": [
       "                 feature  importance\n",
       "0          median_income    0.166278\n",
       "1             population    0.151361\n",
       "2            total_rooms    0.149481\n",
       "3         total_bedrooms    0.143259\n",
       "4             households    0.143076\n",
       "5     housing_median_age    0.125689\n",
       "6              randomVar    0.087551\n",
       "7  OCEAN_PROX_NEAR OCEAN    0.015456\n",
       "8    OCEAN_PROX_NEAR BAY    0.012373\n",
       "9      OCEAN_PROX_INLAND    0.005476"
      ]
     },
     "execution_count": 42,
     "metadata": {},
     "output_type": "execute_result"
    }
   ],
   "source": [
    "features"
   ]
  },
  {
   "cell_type": "markdown",
   "metadata": {},
   "source": [
    "## Var Importance - Correlations"
   ]
  },
  {
   "cell_type": "code",
   "execution_count": 43,
   "metadata": {},
   "outputs": [
    {
     "data": {
      "text/html": [
       "<div>\n",
       "<style>\n",
       "    .dataframe thead tr:only-child th {\n",
       "        text-align: right;\n",
       "    }\n",
       "\n",
       "    .dataframe thead th {\n",
       "        text-align: left;\n",
       "    }\n",
       "\n",
       "    .dataframe tbody tr th {\n",
       "        vertical-align: top;\n",
       "    }\n",
       "</style>\n",
       "<table border=\"1\" class=\"dataframe\">\n",
       "  <thead>\n",
       "    <tr style=\"text-align: right;\">\n",
       "      <th></th>\n",
       "      <th>index</th>\n",
       "      <th>median_house_value</th>\n",
       "    </tr>\n",
       "  </thead>\n",
       "  <tbody>\n",
       "    <tr>\n",
       "      <th>0</th>\n",
       "      <td>median_house_value</td>\n",
       "      <td>1.000000</td>\n",
       "    </tr>\n",
       "    <tr>\n",
       "      <th>1</th>\n",
       "      <td>median_income</td>\n",
       "      <td>0.679166</td>\n",
       "    </tr>\n",
       "    <tr>\n",
       "      <th>2</th>\n",
       "      <td>OCEAN_PROX_INLAND</td>\n",
       "      <td>0.478666</td>\n",
       "    </tr>\n",
       "    <tr>\n",
       "      <th>3</th>\n",
       "      <td>OCEAN_PROX_NEAR BAY</td>\n",
       "      <td>0.175265</td>\n",
       "    </tr>\n",
       "    <tr>\n",
       "      <th>4</th>\n",
       "      <td>OCEAN_PROX_NEAR OCEAN</td>\n",
       "      <td>0.135948</td>\n",
       "    </tr>\n",
       "    <tr>\n",
       "      <th>5</th>\n",
       "      <td>total_rooms</td>\n",
       "      <td>0.128108</td>\n",
       "    </tr>\n",
       "    <tr>\n",
       "      <th>6</th>\n",
       "      <td>housing_median_age</td>\n",
       "      <td>0.091837</td>\n",
       "    </tr>\n",
       "    <tr>\n",
       "      <th>7</th>\n",
       "      <td>households</td>\n",
       "      <td>0.067624</td>\n",
       "    </tr>\n",
       "    <tr>\n",
       "      <th>8</th>\n",
       "      <td>total_bedrooms</td>\n",
       "      <td>0.051856</td>\n",
       "    </tr>\n",
       "    <tr>\n",
       "      <th>9</th>\n",
       "      <td>population</td>\n",
       "      <td>0.028141</td>\n",
       "    </tr>\n",
       "  </tbody>\n",
       "</table>\n",
       "</div>"
      ],
      "text/plain": [
       "                   index  median_house_value\n",
       "0     median_house_value            1.000000\n",
       "1          median_income            0.679166\n",
       "2      OCEAN_PROX_INLAND            0.478666\n",
       "3    OCEAN_PROX_NEAR BAY            0.175265\n",
       "4  OCEAN_PROX_NEAR OCEAN            0.135948\n",
       "5            total_rooms            0.128108\n",
       "6     housing_median_age            0.091837\n",
       "7             households            0.067624\n",
       "8         total_bedrooms            0.051856\n",
       "9             population            0.028141"
      ]
     },
     "execution_count": 43,
     "metadata": {},
     "output_type": "execute_result"
    }
   ],
   "source": [
    "y = \"median_house_value\"\n",
    "df_corr = df.corr()\n",
    "df_corr = df_corr[y]\n",
    "df_corr = df_corr.reset_index(drop=False)\n",
    "df_corr[y] = df_corr[y].apply(lambda x : abs(x))\n",
    "df_corr.sort_values(by=y, ascending=False).reset_index(drop=True)"
   ]
  },
  {
   "cell_type": "markdown",
   "metadata": {},
   "source": [
    "## Remove explinatory vars with high correlations "
   ]
  },
  {
   "cell_type": "code",
   "execution_count": 44,
   "metadata": {},
   "outputs": [
    {
     "data": {
      "text/html": [
       "<div>\n",
       "<style>\n",
       "    .dataframe thead tr:only-child th {\n",
       "        text-align: right;\n",
       "    }\n",
       "\n",
       "    .dataframe thead th {\n",
       "        text-align: left;\n",
       "    }\n",
       "\n",
       "    .dataframe tbody tr th {\n",
       "        vertical-align: top;\n",
       "    }\n",
       "</style>\n",
       "<table border=\"1\" class=\"dataframe\">\n",
       "  <thead>\n",
       "    <tr style=\"text-align: right;\">\n",
       "      <th></th>\n",
       "      <th>index</th>\n",
       "      <th>housing_median_age</th>\n",
       "      <th>total_rooms</th>\n",
       "      <th>total_bedrooms</th>\n",
       "      <th>population</th>\n",
       "      <th>households</th>\n",
       "      <th>median_income</th>\n",
       "      <th>median_house_value</th>\n",
       "      <th>OCEAN_PROX_INLAND</th>\n",
       "      <th>OCEAN_PROX_NEAR BAY</th>\n",
       "      <th>OCEAN_PROX_NEAR OCEAN</th>\n",
       "    </tr>\n",
       "  </thead>\n",
       "  <tbody>\n",
       "    <tr>\n",
       "      <th>0</th>\n",
       "      <td>housing_median_age</td>\n",
       "      <td>1.000000</td>\n",
       "      <td>-0.362212</td>\n",
       "      <td>-0.313661</td>\n",
       "      <td>-0.295540</td>\n",
       "      <td>-0.295916</td>\n",
       "      <td>-0.132817</td>\n",
       "      <td>0.091837</td>\n",
       "      <td>-0.248020</td>\n",
       "      <td>0.243376</td>\n",
       "      <td>0.026648</td>\n",
       "    </tr>\n",
       "    <tr>\n",
       "      <th>1</th>\n",
       "      <td>total_rooms</td>\n",
       "      <td>-0.362212</td>\n",
       "      <td>1.000000</td>\n",
       "      <td>0.928820</td>\n",
       "      <td>0.873551</td>\n",
       "      <td>0.922740</td>\n",
       "      <td>0.186739</td>\n",
       "      <td>0.128108</td>\n",
       "      <td>0.034637</td>\n",
       "      <td>-0.026096</td>\n",
       "      <td>-0.019428</td>\n",
       "    </tr>\n",
       "    <tr>\n",
       "      <th>2</th>\n",
       "      <td>total_bedrooms</td>\n",
       "      <td>-0.313661</td>\n",
       "      <td>0.928820</td>\n",
       "      <td>1.000000</td>\n",
       "      <td>0.886150</td>\n",
       "      <td>0.984084</td>\n",
       "      <td>-0.014520</td>\n",
       "      <td>0.051856</td>\n",
       "      <td>-0.001668</td>\n",
       "      <td>-0.018296</td>\n",
       "      <td>-0.002609</td>\n",
       "    </tr>\n",
       "    <tr>\n",
       "      <th>3</th>\n",
       "      <td>population</td>\n",
       "      <td>-0.295540</td>\n",
       "      <td>0.873551</td>\n",
       "      <td>0.886150</td>\n",
       "      <td>1.000000</td>\n",
       "      <td>0.909086</td>\n",
       "      <td>0.000619</td>\n",
       "      <td>-0.028141</td>\n",
       "      <td>-0.007217</td>\n",
       "      <td>-0.061201</td>\n",
       "      <td>-0.038163</td>\n",
       "    </tr>\n",
       "    <tr>\n",
       "      <th>4</th>\n",
       "      <td>households</td>\n",
       "      <td>-0.295916</td>\n",
       "      <td>0.922740</td>\n",
       "      <td>0.984084</td>\n",
       "      <td>0.909086</td>\n",
       "      <td>1.000000</td>\n",
       "      <td>0.007470</td>\n",
       "      <td>0.067624</td>\n",
       "      <td>-0.028319</td>\n",
       "      <td>-0.008658</td>\n",
       "      <td>-0.003569</td>\n",
       "    </tr>\n",
       "    <tr>\n",
       "      <th>5</th>\n",
       "      <td>median_income</td>\n",
       "      <td>-0.132817</td>\n",
       "      <td>0.186739</td>\n",
       "      <td>-0.014520</td>\n",
       "      <td>0.000619</td>\n",
       "      <td>0.007470</td>\n",
       "      <td>1.000000</td>\n",
       "      <td>0.679166</td>\n",
       "      <td>-0.228834</td>\n",
       "      <td>0.067027</td>\n",
       "      <td>0.010214</td>\n",
       "    </tr>\n",
       "    <tr>\n",
       "      <th>6</th>\n",
       "      <td>median_house_value</td>\n",
       "      <td>0.091837</td>\n",
       "      <td>0.128108</td>\n",
       "      <td>0.051856</td>\n",
       "      <td>-0.028141</td>\n",
       "      <td>0.067624</td>\n",
       "      <td>0.679166</td>\n",
       "      <td>1.000000</td>\n",
       "      <td>-0.478666</td>\n",
       "      <td>0.175265</td>\n",
       "      <td>0.135948</td>\n",
       "    </tr>\n",
       "    <tr>\n",
       "      <th>7</th>\n",
       "      <td>OCEAN_PROX_INLAND</td>\n",
       "      <td>-0.248020</td>\n",
       "      <td>0.034637</td>\n",
       "      <td>-0.001668</td>\n",
       "      <td>-0.007217</td>\n",
       "      <td>-0.028319</td>\n",
       "      <td>-0.228834</td>\n",
       "      <td>-0.478666</td>\n",
       "      <td>1.000000</td>\n",
       "      <td>-0.233513</td>\n",
       "      <td>-0.259450</td>\n",
       "    </tr>\n",
       "    <tr>\n",
       "      <th>8</th>\n",
       "      <td>OCEAN_PROX_NEAR BAY</td>\n",
       "      <td>0.243376</td>\n",
       "      <td>-0.026096</td>\n",
       "      <td>-0.018296</td>\n",
       "      <td>-0.061201</td>\n",
       "      <td>-0.008658</td>\n",
       "      <td>0.067027</td>\n",
       "      <td>0.175265</td>\n",
       "      <td>-0.233513</td>\n",
       "      <td>1.000000</td>\n",
       "      <td>-0.136630</td>\n",
       "    </tr>\n",
       "    <tr>\n",
       "      <th>9</th>\n",
       "      <td>OCEAN_PROX_NEAR OCEAN</td>\n",
       "      <td>0.026648</td>\n",
       "      <td>-0.019428</td>\n",
       "      <td>-0.002609</td>\n",
       "      <td>-0.038163</td>\n",
       "      <td>-0.003569</td>\n",
       "      <td>0.010214</td>\n",
       "      <td>0.135948</td>\n",
       "      <td>-0.259450</td>\n",
       "      <td>-0.136630</td>\n",
       "      <td>1.000000</td>\n",
       "    </tr>\n",
       "  </tbody>\n",
       "</table>\n",
       "</div>"
      ],
      "text/plain": [
       "                   index  housing_median_age  total_rooms  total_bedrooms  \\\n",
       "0     housing_median_age            1.000000    -0.362212       -0.313661   \n",
       "1            total_rooms           -0.362212     1.000000        0.928820   \n",
       "2         total_bedrooms           -0.313661     0.928820        1.000000   \n",
       "3             population           -0.295540     0.873551        0.886150   \n",
       "4             households           -0.295916     0.922740        0.984084   \n",
       "5          median_income           -0.132817     0.186739       -0.014520   \n",
       "6     median_house_value            0.091837     0.128108        0.051856   \n",
       "7      OCEAN_PROX_INLAND           -0.248020     0.034637       -0.001668   \n",
       "8    OCEAN_PROX_NEAR BAY            0.243376    -0.026096       -0.018296   \n",
       "9  OCEAN_PROX_NEAR OCEAN            0.026648    -0.019428       -0.002609   \n",
       "\n",
       "   population  households  median_income  median_house_value  \\\n",
       "0   -0.295540   -0.295916      -0.132817            0.091837   \n",
       "1    0.873551    0.922740       0.186739            0.128108   \n",
       "2    0.886150    0.984084      -0.014520            0.051856   \n",
       "3    1.000000    0.909086       0.000619           -0.028141   \n",
       "4    0.909086    1.000000       0.007470            0.067624   \n",
       "5    0.000619    0.007470       1.000000            0.679166   \n",
       "6   -0.028141    0.067624       0.679166            1.000000   \n",
       "7   -0.007217   -0.028319      -0.228834           -0.478666   \n",
       "8   -0.061201   -0.008658       0.067027            0.175265   \n",
       "9   -0.038163   -0.003569       0.010214            0.135948   \n",
       "\n",
       "   OCEAN_PROX_INLAND  OCEAN_PROX_NEAR BAY  OCEAN_PROX_NEAR OCEAN  \n",
       "0          -0.248020             0.243376               0.026648  \n",
       "1           0.034637            -0.026096              -0.019428  \n",
       "2          -0.001668            -0.018296              -0.002609  \n",
       "3          -0.007217            -0.061201              -0.038163  \n",
       "4          -0.028319            -0.008658              -0.003569  \n",
       "5          -0.228834             0.067027               0.010214  \n",
       "6          -0.478666             0.175265               0.135948  \n",
       "7           1.000000            -0.233513              -0.259450  \n",
       "8          -0.233513             1.000000              -0.136630  \n",
       "9          -0.259450            -0.136630               1.000000  "
      ]
     },
     "execution_count": 44,
     "metadata": {},
     "output_type": "execute_result"
    }
   ],
   "source": [
    "df_corr = df.corr().reset_index(drop=False)\n",
    "df_corr"
   ]
  },
  {
   "cell_type": "code",
   "execution_count": 45,
   "metadata": {},
   "outputs": [
    {
     "data": {
      "text/html": [
       "<div>\n",
       "<style>\n",
       "    .dataframe thead tr:only-child th {\n",
       "        text-align: right;\n",
       "    }\n",
       "\n",
       "    .dataframe thead th {\n",
       "        text-align: left;\n",
       "    }\n",
       "\n",
       "    .dataframe tbody tr th {\n",
       "        vertical-align: top;\n",
       "    }\n",
       "</style>\n",
       "<table border=\"1\" class=\"dataframe\">\n",
       "  <thead>\n",
       "    <tr style=\"text-align: right;\">\n",
       "      <th></th>\n",
       "      <th>index</th>\n",
       "      <th>variable</th>\n",
       "      <th>value</th>\n",
       "    </tr>\n",
       "  </thead>\n",
       "  <tbody>\n",
       "    <tr>\n",
       "      <th>42</th>\n",
       "      <td>total_bedrooms</td>\n",
       "      <td>households</td>\n",
       "      <td>0.984084</td>\n",
       "    </tr>\n",
       "    <tr>\n",
       "      <th>24</th>\n",
       "      <td>households</td>\n",
       "      <td>total_bedrooms</td>\n",
       "      <td>0.984084</td>\n",
       "    </tr>\n",
       "    <tr>\n",
       "      <th>12</th>\n",
       "      <td>total_bedrooms</td>\n",
       "      <td>total_rooms</td>\n",
       "      <td>0.928820</td>\n",
       "    </tr>\n",
       "    <tr>\n",
       "      <th>21</th>\n",
       "      <td>total_rooms</td>\n",
       "      <td>total_bedrooms</td>\n",
       "      <td>0.928820</td>\n",
       "    </tr>\n",
       "    <tr>\n",
       "      <th>14</th>\n",
       "      <td>households</td>\n",
       "      <td>total_rooms</td>\n",
       "      <td>0.922740</td>\n",
       "    </tr>\n",
       "    <tr>\n",
       "      <th>41</th>\n",
       "      <td>total_rooms</td>\n",
       "      <td>households</td>\n",
       "      <td>0.922740</td>\n",
       "    </tr>\n",
       "    <tr>\n",
       "      <th>43</th>\n",
       "      <td>population</td>\n",
       "      <td>households</td>\n",
       "      <td>0.909086</td>\n",
       "    </tr>\n",
       "    <tr>\n",
       "      <th>34</th>\n",
       "      <td>households</td>\n",
       "      <td>population</td>\n",
       "      <td>0.909086</td>\n",
       "    </tr>\n",
       "    <tr>\n",
       "      <th>23</th>\n",
       "      <td>population</td>\n",
       "      <td>total_bedrooms</td>\n",
       "      <td>0.886150</td>\n",
       "    </tr>\n",
       "    <tr>\n",
       "      <th>32</th>\n",
       "      <td>total_bedrooms</td>\n",
       "      <td>population</td>\n",
       "      <td>0.886150</td>\n",
       "    </tr>\n",
       "    <tr>\n",
       "      <th>13</th>\n",
       "      <td>population</td>\n",
       "      <td>total_rooms</td>\n",
       "      <td>0.873551</td>\n",
       "    </tr>\n",
       "    <tr>\n",
       "      <th>31</th>\n",
       "      <td>total_rooms</td>\n",
       "      <td>population</td>\n",
       "      <td>0.873551</td>\n",
       "    </tr>\n",
       "    <tr>\n",
       "      <th>56</th>\n",
       "      <td>median_house_value</td>\n",
       "      <td>median_income</td>\n",
       "      <td>0.679166</td>\n",
       "    </tr>\n",
       "    <tr>\n",
       "      <th>65</th>\n",
       "      <td>median_income</td>\n",
       "      <td>median_house_value</td>\n",
       "      <td>0.679166</td>\n",
       "    </tr>\n",
       "  </tbody>\n",
       "</table>\n",
       "</div>"
      ],
      "text/plain": [
       "                 index            variable     value\n",
       "42      total_bedrooms          households  0.984084\n",
       "24          households      total_bedrooms  0.984084\n",
       "12      total_bedrooms         total_rooms  0.928820\n",
       "21         total_rooms      total_bedrooms  0.928820\n",
       "14          households         total_rooms  0.922740\n",
       "41         total_rooms          households  0.922740\n",
       "43          population          households  0.909086\n",
       "34          households          population  0.909086\n",
       "23          population      total_bedrooms  0.886150\n",
       "32      total_bedrooms          population  0.886150\n",
       "13          population         total_rooms  0.873551\n",
       "31         total_rooms          population  0.873551\n",
       "56  median_house_value       median_income  0.679166\n",
       "65       median_income  median_house_value  0.679166"
      ]
     },
     "execution_count": 45,
     "metadata": {},
     "output_type": "execute_result"
    }
   ],
   "source": [
    "df_corr_melt = pd.melt(df_corr, id_vars=['index'], value_vars=[col for col in df_corr.columns if col != \"index\" ])\n",
    "df_corr_melt[\"value\"] = df_corr_melt[\"value\"].apply(lambda x : abs(x))\n",
    "df_corr_melt = df_corr_melt.sort_values(by=\"value\", ascending=False)\n",
    "df_corr_melt = df_corr_melt.loc[df_corr_melt[\"index\"]!=df_corr_melt[\"variable\"], :]\n",
    "df_corr_melt = df_corr_melt[df_corr_melt[\"value\"]>0.5]\n",
    "df_corr_melt"
   ]
  },
  {
   "cell_type": "code",
   "execution_count": null,
   "metadata": {},
   "outputs": [],
   "source": []
  },
  {
   "cell_type": "code",
   "execution_count": null,
   "metadata": {},
   "outputs": [],
   "source": []
  },
  {
   "cell_type": "code",
   "execution_count": null,
   "metadata": {},
   "outputs": [],
   "source": []
  },
  {
   "cell_type": "code",
   "execution_count": null,
   "metadata": {},
   "outputs": [],
   "source": []
  }
 ],
 "metadata": {
  "kernelspec": {
   "display_name": "Python 3",
   "language": "python",
   "name": "python3"
  },
  "language_info": {
   "codemirror_mode": {
    "name": "ipython",
    "version": 3
   },
   "file_extension": ".py",
   "mimetype": "text/x-python",
   "name": "python",
   "nbconvert_exporter": "python",
   "pygments_lexer": "ipython3",
   "version": "3.6.2"
  }
 },
 "nbformat": 4,
 "nbformat_minor": 2
}
